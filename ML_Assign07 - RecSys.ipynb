{
 "cells": [
  {
   "cell_type": "code",
   "execution_count": 1,
   "metadata": {},
   "outputs": [],
   "source": [
    "from surprise import Dataset\n",
    "from surprise import Reader\n",
    "import pandas as pd\n",
    "import numpy as np\n",
    "import matplotlib.pyplot as pic\n",
    "import os"
   ]
  },
  {
   "cell_type": "code",
   "execution_count": 2,
   "metadata": {},
   "outputs": [],
   "source": [
    "#load the data\n",
    "file_path = os.path.expanduser('D:/Analytics/UCF/Machine Learning/Assignments/restaurant_ratings.txt')\n",
    "reader = Reader(line_format='user item rating timestamp', sep='\\t')\n",
    "data = Dataset.load_from_file(file_path, reader=reader)"
   ]
  },
  {
   "cell_type": "code",
   "execution_count": 3,
   "metadata": {},
   "outputs": [
    {
     "name": "stdout",
     "output_type": "stream",
     "text": [
      "Evaluating RMSE, MAE of algorithm SVD on 3 split(s).\n",
      "\n",
      "                  Fold 1  Fold 2  Fold 3  Mean    Std     \n",
      "RMSE (testset)    0.9494  0.9446  0.9407  0.9449  0.0036  \n",
      "MAE (testset)     0.7505  0.7455  0.7413  0.7458  0.0038  \n",
      "Fit time          8.06    8.17    7.73    7.99    0.19    \n",
      "Test time         0.48    0.47    0.41    0.45    0.03    \n",
      "Performance: {'test_rmse': array([0.94939327, 0.94457167, 0.9407076 ]), 'test_mae': array([0.75050327, 0.74548918, 0.74131918]), 'fit_time': (8.06354308128357, 8.166070699691772, 7.725448846817017), 'test_time': (0.4831240177154541, 0.4683802127838135, 0.40610718727111816)}\n"
     ]
    }
   ],
   "source": [
    "#Q5\n",
    "from surprise import SVD\n",
    "from surprise.model_selection import cross_validate\n",
    "\n",
    "algorithm = SVD()\n",
    "performance = cross_validate(algorithm, data, measures=['RMSE', 'MAE'], cv=3, verbose=True)\n",
    "print(\"Performance:\",performance)"
   ]
  },
  {
   "cell_type": "code",
   "execution_count": 4,
   "metadata": {},
   "outputs": [
    {
     "name": "stdout",
     "output_type": "stream",
     "text": [
      "Evaluating RMSE, MAE of algorithm SVD on 3 split(s).\n",
      "\n",
      "                  Fold 1  Fold 2  Fold 3  Mean    Std     \n",
      "RMSE (testset)    0.9645  0.9685  0.9661  0.9664  0.0016  \n",
      "MAE (testset)     0.7602  0.7634  0.7631  0.7623  0.0014  \n",
      "Fit time          8.08    4.09    8.11    6.76    1.89    \n",
      "Test time         0.20    0.41    0.42    0.34    0.10    \n",
      "Performance: {'test_rmse': array([0.96452237, 0.96851689, 0.96609566]), 'test_mae': array([0.76021858, 0.76344057, 0.76309722]), 'fit_time': (8.082369327545166, 4.091682434082031, 8.109130382537842), 'test_time': (0.20459485054016113, 0.40678906440734863, 0.4231112003326416)}\n"
     ]
    }
   ],
   "source": [
    "#Q6\n",
    "algorithm = SVD(biased=False)\n",
    "performance = cross_validate(algorithm, data, measures=['RMSE', 'MAE'], cv=3, verbose=True)\n",
    "print(\"Performance:\",performance)"
   ]
  },
  {
   "cell_type": "code",
   "execution_count": 5,
   "metadata": {},
   "outputs": [
    {
     "name": "stdout",
     "output_type": "stream",
     "text": [
      "Evaluating RMSE, MAE of algorithm NMF on 3 split(s).\n",
      "\n",
      "                  Fold 1  Fold 2  Fold 3  Mean    Std     \n",
      "RMSE (testset)    0.9714  0.9749  0.9656  0.9706  0.0039  \n",
      "MAE (testset)     0.7631  0.7676  0.7584  0.7631  0.0038  \n",
      "Fit time          8.30    8.42    8.40    8.38    0.05    \n",
      "Test time         0.39    0.35    0.40    0.38    0.02    \n",
      "Performance: {'test_rmse': array([0.97138564, 0.97492417, 0.9655798 ]), 'test_mae': array([0.76311491, 0.76762599, 0.75843238]), 'fit_time': (8.302621603012085, 8.420013189315796, 8.404193878173828), 'test_time': (0.39415478706359863, 0.34581995010375977, 0.3975822925567627)}\n"
     ]
    }
   ],
   "source": [
    "#Q7\n",
    "from surprise import NMF\n",
    "algorithm = NMF()\n",
    "performance = cross_validate(algorithm, data, measures=['RMSE', 'MAE'], cv=3, verbose=True)\n",
    "print(\"Performance:\",performance)"
   ]
  },
  {
   "cell_type": "code",
   "execution_count": 6,
   "metadata": {},
   "outputs": [
    {
     "name": "stdout",
     "output_type": "stream",
     "text": [
      "Computing the msd similarity matrix...\n",
      "Done computing similarity matrix.\n",
      "Computing the msd similarity matrix...\n",
      "Done computing similarity matrix.\n",
      "Computing the msd similarity matrix...\n",
      "Done computing similarity matrix.\n",
      "Evaluating RMSE, MAE of algorithm KNNBasic on 3 split(s).\n",
      "\n",
      "                  Fold 1  Fold 2  Fold 3  Mean    Std     \n",
      "RMSE (testset)    0.9908  0.9866  0.9886  0.9887  0.0017  \n",
      "MAE (testset)     0.7835  0.7805  0.7812  0.7817  0.0013  \n",
      "Fit time          0.69    0.64    0.70    0.68    0.03    \n",
      "Test time         9.66    9.89    9.85    9.80    0.10    \n",
      "Performance: {'test_rmse': array([0.990818  , 0.98663668, 0.98857821]), 'test_mae': array([0.78347635, 0.78049775, 0.78116559]), 'fit_time': (0.6852014064788818, 0.6422255039215088, 0.7037763595581055), 'test_time': (9.657868385314941, 9.893880844116211, 9.845522403717041)}\n"
     ]
    }
   ],
   "source": [
    "#Q8\n",
    "from surprise import KNNBasic\n",
    "\n",
    "algorithm = KNNBasic(sim_options = {\n",
    "'user_based': True\n",
    "})\n",
    "performance = cross_validate(algorithm, data, measures=['RMSE', 'MAE'], cv=3, verbose=True)\n",
    "print(\"Performance:\",performance)"
   ]
  },
  {
   "cell_type": "code",
   "execution_count": 7,
   "metadata": {},
   "outputs": [
    {
     "name": "stdout",
     "output_type": "stream",
     "text": [
      "Computing the msd similarity matrix...\n",
      "Done computing similarity matrix.\n",
      "Computing the msd similarity matrix...\n",
      "Done computing similarity matrix.\n",
      "Computing the msd similarity matrix...\n",
      "Done computing similarity matrix.\n",
      "Evaluating RMSE, MAE of algorithm KNNBasic on 3 split(s).\n",
      "\n",
      "                  Fold 1  Fold 2  Fold 3  Mean    Std     \n",
      "RMSE (testset)    0.9910  0.9865  0.9805  0.9860  0.0043  \n",
      "MAE (testset)     0.7864  0.7794  0.7763  0.7807  0.0042  \n",
      "Fit time          0.94    0.95    1.00    0.96    0.02    \n",
      "Test time         11.17   11.07   11.21   11.15   0.06    \n",
      "Performance: {'test_rmse': array([0.99098739, 0.98649967, 0.98046492]), 'test_mae': array([0.78641728, 0.77943244, 0.7763278 ]), 'fit_time': (0.9421470165252686, 0.9512982368469238, 0.9953701496124268), 'test_time': (11.166954517364502, 11.07285737991333, 11.210549354553223)}\n"
     ]
    }
   ],
   "source": [
    "#Q9\n",
    "algorithm = KNNBasic(sim_options = {\n",
    "'user_based': False\n",
    "})\n",
    "performance = cross_validate(algorithm, data, measures=['RMSE', 'MAE'], cv=3, verbose=True)\n",
    "print(\"Performance:\",performance)"
   ]
  },
  {
   "cell_type": "code",
   "execution_count": 8,
   "metadata": {},
   "outputs": [
    {
     "name": "stdout",
     "output_type": "stream",
     "text": [
      "Computing the msd similarity matrix...\n",
      "Done computing similarity matrix.\n",
      "Computing the msd similarity matrix...\n",
      "Done computing similarity matrix.\n",
      "Computing the msd similarity matrix...\n",
      "Done computing similarity matrix.\n",
      "Evaluating RMSE, MAE of algorithm KNNBasic on 3 split(s).\n",
      "\n",
      "                  Fold 1  Fold 2  Fold 3  Mean    Std     \n",
      "RMSE (testset)    0.9927  0.9844  0.9888  0.9886  0.0034  \n",
      "MAE (testset)     0.7831  0.7777  0.7817  0.7809  0.0023  \n",
      "Fit time          0.68    0.68    0.73    0.70    0.02    \n",
      "Test time         10.08   9.79    9.94    9.94    0.12    \n",
      "Performance: {'test_rmse': array([0.99267664, 0.98444702, 0.98879   ]), 'test_mae': array([0.78309819, 0.77774853, 0.78174276]), 'fit_time': (0.6848623752593994, 0.6831154823303223, 0.7258081436157227), 'test_time': (10.080399751663208, 9.789918899536133, 9.94036078453064)}\n"
     ]
    }
   ],
   "source": [
    "#Q14.a.1\n",
    "algorithm = KNNBasic(sim_options = {\n",
    "'name':'MSD',\n",
    "'user_based': True\n",
    "})\n",
    "name_user_01 = \"MSD\"\n",
    "per_user_01 = cross_validate(algorithm, data, measures=['RMSE', 'MAE'], cv=3, verbose=True)\n",
    "print(\"Performance:\",per_user_01)"
   ]
  },
  {
   "cell_type": "code",
   "execution_count": 9,
   "metadata": {},
   "outputs": [
    {
     "name": "stdout",
     "output_type": "stream",
     "text": [
      "Computing the cosine similarity matrix...\n",
      "Done computing similarity matrix.\n",
      "Computing the cosine similarity matrix...\n",
      "Done computing similarity matrix.\n",
      "Computing the cosine similarity matrix...\n",
      "Done computing similarity matrix.\n",
      "Evaluating RMSE, MAE of algorithm KNNBasic on 3 split(s).\n",
      "\n",
      "                  Fold 1  Fold 2  Fold 3  Mean    Std     \n",
      "RMSE (testset)    1.0212  1.0205  1.0219  1.0212  0.0006  \n",
      "MAE (testset)     0.8096  0.8072  0.8090  0.8086  0.0010  \n",
      "Fit time          2.52    2.52    2.63    2.56    0.05    \n",
      "Test time         9.65    9.51    9.69    9.62    0.08    \n",
      "Performance: {'test_rmse': array([1.02117919, 1.02046029, 1.02189227]), 'test_mae': array([0.80964082, 0.80718564, 0.80897308]), 'fit_time': (2.5242319107055664, 2.524130344390869, 2.634620189666748), 'test_time': (9.65265154838562, 9.506592750549316, 9.69407033920288)}\n"
     ]
    }
   ],
   "source": [
    "#Q14.a.2\n",
    "algorithm = KNNBasic(sim_options = {\n",
    "'name':'cosine',\n",
    "'user_based': True\n",
    "})\n",
    "name_user_02 = \"cosine\"\n",
    "per_user_02 = cross_validate(algorithm, data, measures=['RMSE', 'MAE'], cv=3, verbose=True)\n",
    "print(\"Performance:\",per_user_02)"
   ]
  },
  {
   "cell_type": "code",
   "execution_count": 10,
   "metadata": {},
   "outputs": [
    {
     "name": "stdout",
     "output_type": "stream",
     "text": [
      "Computing the pearson similarity matrix...\n",
      "Done computing similarity matrix.\n",
      "Computing the pearson similarity matrix...\n",
      "Done computing similarity matrix.\n",
      "Computing the pearson similarity matrix...\n",
      "Done computing similarity matrix.\n",
      "Evaluating RMSE, MAE of algorithm KNNBasic on 3 split(s).\n",
      "\n",
      "                  Fold 1  Fold 2  Fold 3  Mean    Std     \n",
      "RMSE (testset)    1.0149  1.0229  1.0204  1.0194  0.0033  \n",
      "MAE (testset)     0.8034  0.8105  0.8126  0.8088  0.0040  \n",
      "Fit time          3.18    3.16    3.16    3.17    0.01    \n",
      "Test time         9.73    9.63    10.66   10.01   0.46    \n",
      "Performance: {'test_rmse': array([1.01490835, 1.02293672, 1.02038069]), 'test_mae': array([0.80335923, 0.81048041, 0.81262066]), 'fit_time': (3.1806929111480713, 3.158533811569214, 3.159475564956665), 'test_time': (9.734057903289795, 9.632647514343262, 10.660380840301514)}\n"
     ]
    }
   ],
   "source": [
    "#Q14.a.3\n",
    "algorithm = KNNBasic(sim_options = {\n",
    "'name':'pearson',\n",
    "'user_based': True\n",
    "})\n",
    "name_user_03 = \"pearson\"\n",
    "per_user_03 = cross_validate(algorithm, data, measures=['RMSE', 'MAE'], cv=3, verbose=True)\n",
    "print(\"Performance:\",per_user_03)"
   ]
  },
  {
   "cell_type": "code",
   "execution_count": 11,
   "metadata": {},
   "outputs": [
    {
     "name": "stdout",
     "output_type": "stream",
     "text": [
      "Computing the msd similarity matrix...\n",
      "Done computing similarity matrix.\n",
      "Computing the msd similarity matrix...\n",
      "Done computing similarity matrix.\n",
      "Computing the msd similarity matrix...\n",
      "Done computing similarity matrix.\n",
      "Evaluating RMSE, MAE of algorithm KNNBasic on 3 split(s).\n",
      "\n",
      "                  Fold 1  Fold 2  Fold 3  Mean    Std     \n",
      "RMSE (testset)    0.9857  0.9847  0.9826  0.9843  0.0013  \n",
      "MAE (testset)     0.7812  0.7805  0.7760  0.7792  0.0023  \n",
      "Fit time          0.95    0.96    0.94    0.95    0.01    \n",
      "Test time         11.76   11.33   11.19   11.43   0.24    \n",
      "Performance: {'test_rmse': array([0.98574743, 0.98471041, 0.98256553]), 'test_mae': array([0.78120436, 0.78049206, 0.77603341]), 'fit_time': (0.9510631561279297, 0.9594764709472656, 0.9447801113128662), 'test_time': (11.759396314620972, 11.332974672317505, 11.185633659362793)}\n"
     ]
    }
   ],
   "source": [
    "#Q14.b.1\n",
    "algorithm = KNNBasic(sim_options = {\n",
    "'name':'MSD',\n",
    "'user_based': False\n",
    "})\n",
    "name_item_01 = \"MSD\"\n",
    "per_item_01 = cross_validate(algorithm, data, measures=['RMSE', 'MAE'], cv=3, verbose=True)\n",
    "print(\"Performance:\",per_item_01)"
   ]
  },
  {
   "cell_type": "code",
   "execution_count": 12,
   "metadata": {},
   "outputs": [
    {
     "name": "stdout",
     "output_type": "stream",
     "text": [
      "Computing the cosine similarity matrix...\n",
      "Done computing similarity matrix.\n",
      "Computing the cosine similarity matrix...\n",
      "Done computing similarity matrix.\n",
      "Computing the cosine similarity matrix...\n",
      "Done computing similarity matrix.\n",
      "Evaluating RMSE, MAE of algorithm KNNBasic on 3 split(s).\n",
      "\n",
      "                  Fold 1  Fold 2  Fold 3  Mean    Std     \n",
      "RMSE (testset)    1.0390  1.0344  1.0342  1.0359  0.0022  \n",
      "MAE (testset)     0.8251  0.8211  0.8197  0.8219  0.0023  \n",
      "Fit time          3.93    3.74    3.76    3.81    0.08    \n",
      "Test time         11.18   10.98   10.96   11.04   0.10    \n",
      "Performance: {'test_rmse': array([1.03898202, 1.03444251, 1.03421048]), 'test_mae': array([0.82509815, 0.82105276, 0.81968626]), 'fit_time': (3.927243947982788, 3.737067222595215, 3.7646775245666504), 'test_time': (11.181922912597656, 10.981550216674805, 10.961929082870483)}\n"
     ]
    }
   ],
   "source": [
    "#Q14.b.2\n",
    "algorithm = KNNBasic(sim_options = {\n",
    "'name':'cosine',\n",
    "'user_based': False\n",
    "})\n",
    "name_item_02 = \"cosine\"\n",
    "per_item_02 = cross_validate(algorithm, data, measures=['RMSE', 'MAE'], cv=3, verbose=True)\n",
    "print(\"Performance:\",per_item_02)"
   ]
  },
  {
   "cell_type": "code",
   "execution_count": 13,
   "metadata": {},
   "outputs": [
    {
     "name": "stdout",
     "output_type": "stream",
     "text": [
      "Computing the pearson similarity matrix...\n",
      "Done computing similarity matrix.\n",
      "Computing the pearson similarity matrix...\n",
      "Done computing similarity matrix.\n",
      "Computing the pearson similarity matrix...\n",
      "Done computing similarity matrix.\n",
      "Evaluating RMSE, MAE of algorithm KNNBasic on 3 split(s).\n",
      "\n",
      "                  Fold 1  Fold 2  Fold 3  Mean    Std     \n",
      "RMSE (testset)    1.0475  1.0494  1.0464  1.0478  0.0012  \n",
      "MAE (testset)     0.8370  0.8398  0.8379  0.8383  0.0012  \n",
      "Fit time          4.76    4.82    4.83    4.80    0.03    \n",
      "Test time         11.93   10.98   11.28   11.40   0.39    \n",
      "Performance: {'test_rmse': array([1.04753446, 1.04937107, 1.04635077]), 'test_mae': array([0.83704558, 0.83983395, 0.83794066]), 'fit_time': (4.756620407104492, 4.822814702987671, 4.832559823989868), 'test_time': (11.92546558380127, 10.980848789215088, 11.281252384185791)}\n"
     ]
    }
   ],
   "source": [
    "#Q14.b.3\n",
    "algorithm = KNNBasic(sim_options = {\n",
    "'name':'pearson',\n",
    "'user_based': False\n",
    "})\n",
    "name_item_03 = \"pearson\"\n",
    "per_item_03 = cross_validate(algorithm, data, measures=['RMSE', 'MAE'], cv=3, verbose=True)\n",
    "print(\"Performance:\",per_item_03)"
   ]
  },
  {
   "cell_type": "code",
   "execution_count": 25,
   "metadata": {},
   "outputs": [
    {
     "name": "stdout",
     "output_type": "stream",
     "text": [
      "('MSD', 'cosine', 'pearson')\n",
      "User based RMSE values are  (0.9886378876595622, 1.021177249690998, 1.0194085858715305)\n",
      "Item based RMSE values are  (0.9843411223549037, 1.0358783345426446, 1.047752099845026)\n"
     ]
    },
    {
     "data": {
      "image/png": "[encoded data removed]",
      "text/plain": [
       "<Figure size 432x288 with 1 Axes>"
      ]
     },
     "metadata": {
      "needs_background": "light"
     },
     "output_type": "display_data"
    }
   ],
   "source": [
    "Name_User = (name_user_01, name_user_02, name_user_03)\n",
    "User_rmse = (per_user_01['test_rmse'].mean(), per_user_02['test_rmse'].mean(), per_user_03['test_rmse'].mean())\n",
    "User_mae = (per_user_01['test_mae'].mean(), per_user_02['test_mae'].mean(), per_user_03['test_mae'].mean())\n",
    "\n",
    "Name_Item = (name_item_01, name_item_02, name_item_03)\n",
    "Item_rmse = (per_item_01['test_rmse'].mean(), per_item_02['test_rmse'].mean(), per_item_03['test_rmse'].mean())\n",
    "Item_mae = (per_item_01['test_mae'].mean(), per_item_02['test_mae'].mean(), per_item_03['test_mae'].mean())\n",
    "\n",
    "a = np.arange(3)\n",
    "temp = pic.subplot(1,1,1)\n",
    "b=0.2\n",
    "\n",
    "print(Name_User)\n",
    "print(\"User based RMSE values are \", User_rmse)\n",
    "print(\"Item based RMSE values are \", Item_rmse)\n",
    "\n",
    "pic.bar(a, User_rmse, b)\n",
    "pic.bar(a+b, Item_rmse,b)\n",
    "\n",
    "pic.xticks(a + b / 2, Name_User, rotation='vertical')\n",
    "pic.show()"
   ]
  },
  {
   "cell_type": "code",
   "execution_count": 16,
   "metadata": {},
   "outputs": [
    {
     "name": "stdout",
     "output_type": "stream",
     "text": [
      "Computing the msd similarity matrix...\n",
      "Done computing similarity matrix.\n",
      "Computing the msd similarity matrix...\n",
      "Done computing similarity matrix.\n",
      "Computing the msd similarity matrix...\n",
      "Done computing similarity matrix.\n",
      "Computing the msd similarity matrix...\n",
      "Done computing similarity matrix.\n",
      "Computing the msd similarity matrix...\n",
      "Done computing similarity matrix.\n",
      "Computing the msd similarity matrix...\n",
      "Done computing similarity matrix.\n",
      "Computing the msd similarity matrix...\n",
      "Done computing similarity matrix.\n",
      "Computing the msd similarity matrix...\n",
      "Done computing similarity matrix.\n",
      "Computing the msd similarity matrix...\n",
      "Done computing similarity matrix.\n",
      "Computing the msd similarity matrix...\n",
      "Done computing similarity matrix.\n",
      "Computing the msd similarity matrix...\n",
      "Done computing similarity matrix.\n",
      "Computing the msd similarity matrix...\n",
      "Done computing similarity matrix.\n",
      "Computing the msd similarity matrix...\n",
      "Done computing similarity matrix.\n",
      "Computing the msd similarity matrix...\n",
      "Done computing similarity matrix.\n",
      "Computing the msd similarity matrix...\n",
      "Done computing similarity matrix.\n",
      "           test_rmse  fit_time  test_time\n",
      "Algorithm                                \n",
      "KNNBasic    0.987600  0.593999   7.092315\n",
      "KNNBasic    0.987753  0.586164  10.221084\n",
      "KNNBasic    0.987908  0.735531  10.470488\n",
      "KNNBasic    0.987949  0.684095  10.153857\n",
      "KNNBasic    0.988187  0.705992  10.250184\n"
     ]
    },
    {
     "data": {
      "image/png": "[encoded data removed]",
      "text/plain": [
       "<Figure size 432x288 with 1 Axes>"
      ]
     },
     "metadata": {
      "needs_background": "light"
     },
     "output_type": "display_data"
    }
   ],
   "source": [
    "#Q15.a\n",
    "measure = []\n",
    "method =''\n",
    "k_val=(5,10,15,20,25)\n",
    "for kvalue in k_val:\n",
    "\n",
    "    for algorithm in [(KNNBasic(k_val=kvalue, sim_options = {'method':'MSD', 'user_based': True }))]:\n",
    "    \n",
    "       \n",
    "  \n",
    "        performance = cross_validate(algorithm, data, measures=['RMSE'], cv=3, verbose=False)\n",
    "   \n",
    "        data_temp = pd.DataFrame.from_dict(performance).mean(axis=0)\n",
    "        data_temp = data_temp.append(pd.Series([str(algorithm).split(' ')[0].split('.')[-1]], index=['Algorithm']))\n",
    "        measure.append(data_temp)\n",
    "    \n",
    "UserBased_Dataset=pd.DataFrame(measure).set_index('Algorithm').sort_values('test_rmse')\n",
    "print(UserBased_Dataset)\n",
    "pic.bar(k_val,UserBased_Dataset.test_rmse,color='blue',align='center', alpha=0.5)\n",
    "pic.show()"
   ]
  },
  {
   "cell_type": "code",
   "execution_count": 17,
   "metadata": {},
   "outputs": [
    {
     "name": "stdout",
     "output_type": "stream",
     "text": [
      "Computing the msd similarity matrix...\n",
      "Done computing similarity matrix.\n",
      "Computing the msd similarity matrix...\n",
      "Done computing similarity matrix.\n",
      "Computing the msd similarity matrix...\n",
      "Done computing similarity matrix.\n",
      "Computing the msd similarity matrix...\n",
      "Done computing similarity matrix.\n",
      "Computing the msd similarity matrix...\n",
      "Done computing similarity matrix.\n",
      "Computing the msd similarity matrix...\n",
      "Done computing similarity matrix.\n",
      "Computing the msd similarity matrix...\n",
      "Done computing similarity matrix.\n",
      "Computing the msd similarity matrix...\n",
      "Done computing similarity matrix.\n",
      "Computing the msd similarity matrix...\n",
      "Done computing similarity matrix.\n",
      "Computing the msd similarity matrix...\n",
      "Done computing similarity matrix.\n",
      "Computing the msd similarity matrix...\n",
      "Done computing similarity matrix.\n",
      "Computing the msd similarity matrix...\n",
      "Done computing similarity matrix.\n",
      "Computing the msd similarity matrix...\n",
      "Done computing similarity matrix.\n",
      "Computing the msd similarity matrix...\n",
      "Done computing similarity matrix.\n",
      "Computing the msd similarity matrix...\n",
      "Done computing similarity matrix.\n",
      "           test_rmse  fit_time  test_time\n",
      "Algorithm                                \n",
      "KNNBasic    0.985040  0.772132   7.342665\n",
      "KNNBasic    0.985537  1.031640  13.613044\n",
      "KNNBasic    0.985783  0.946574  11.658892\n",
      "KNNBasic    0.985787  0.967163  11.961689\n",
      "KNNBasic    0.986572  1.166867  12.025625\n"
     ]
    },
    {
     "data": {
      "image/png": "[encoded data removed]",
      "text/plain": [
       "<Figure size 432x288 with 1 Axes>"
      ]
     },
     "metadata": {
      "needs_background": "light"
     },
     "output_type": "display_data"
    }
   ],
   "source": [
    "#Q15.b\n",
    "measure = []\n",
    "for kvalue in k_val:\n",
    "\n",
    "    for algorithm in [(KNNBasic(k_val=kvalue, sim_options = {'name':'MSD', 'user_based': False }))]:\n",
    "        performance = cross_validate(algorithm, data, measures=['RMSE'], cv=3, verbose=False)\n",
    "        data_temp = pd.DataFrame.from_dict(performance).mean(axis=0)\n",
    "        data_temp = data_temp.append(pd.Series([str(algorithm).split(' ')[0].split('.')[-1]], index=['Algorithm']))\n",
    "        measure.append(data_temp)\n",
    "    \n",
    "ItemBased_Dataset=pd.DataFrame(measure).set_index('Algorithm').sort_values('test_rmse')\n",
    "print(ItemBased_Dataset)\n",
    "pic.bar(k_val,ItemBased_Dataset.test_rmse,color='green',align='center', alpha=0.5)\n",
    "pic.show()"
   ]
  },
  {
   "cell_type": "code",
   "execution_count": null,
   "metadata": {},
   "outputs": [],
   "source": []
  }
 ],
 "metadata": {
  "kernelspec": {
   "display_name": "Python 3",
   "language": "python",
   "name": "python3"
  },
  "language_info": {
   "codemirror_mode": {
    "name": "ipython",
    "version": 3
   },
   "file_extension": ".py",
   "mimetype": "text/x-python",
   "name": "python",
   "nbconvert_exporter": "python",
   "pygments_lexer": "ipython3",
   "version": "3.7.4"
  }
 },
 "nbformat": 4,
 "nbformat_minor": 2
}
