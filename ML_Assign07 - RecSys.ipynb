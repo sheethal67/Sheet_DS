{
 "cells": [
  {
   "cell_type": "code",
   "execution_count": 1,
   "metadata": {},
   "outputs": [],
   "source": [
    "from surprise import Dataset\n",
    "from surprise import Reader\n",
    "import pandas as pd\n",
    "import os"
   ]
  },
  {
   "cell_type": "code",
   "execution_count": 2,
   "metadata": {},
   "outputs": [],
   "source": [
    "#load the data\n",
    "file_path = os.path.expanduser('D:/Analytics/UCF/Machine Learning/Assignments/restaurant_ratings.txt')\n",
    "reader = Reader(line_format='user item rating timestamp', sep='\\t')\n",
    "data = Dataset.load_from_file(file_path, reader=reader)"
   ]
  },
  {
   "cell_type": "code",
   "execution_count": 3,
   "metadata": {},
   "outputs": [
    {
     "name": "stdout",
     "output_type": "stream",
     "text": [
      "Evaluating RMSE, MAE of algorithm SVD on 3 split(s).\n",
      "\n",
      "                  Fold 1  Fold 2  Fold 3  Mean    Std     \n",
      "RMSE (testset)    0.9481  0.9416  0.9445  0.9447  0.0026  \n",
      "MAE (testset)     0.7480  0.7444  0.7445  0.7456  0.0017  \n",
      "Fit time          3.24    3.26    3.65    3.38    0.19    \n",
      "Test time         0.30    0.24    0.27    0.27    0.02    \n",
      "Performance: {'test_rmse': array([0.94807593, 0.94161789, 0.94450302]), 'test_mae': array([0.74800993, 0.74440443, 0.74448161]), 'fit_time': (3.241145133972168, 3.2628438472747803, 3.6452114582061768), 'test_time': (0.2953376770019531, 0.24068903923034668, 0.27146267890930176)}\n"
     ]
    }
   ],
   "source": [
    "#Q5\n",
    "from surprise import SVD\n",
    "from surprise.model_selection import cross_validate\n",
    "\n",
    "algorithm = SVD()\n",
    "performance = cross_validate(algorithm, data, measures=['RMSE', 'MAE'], cv=3, verbose=True)\n",
    "print(\"Performance:\",performance)"
   ]
  },
  {
   "cell_type": "code",
   "execution_count": 4,
   "metadata": {},
   "outputs": [
    {
     "name": "stdout",
     "output_type": "stream",
     "text": [
      "Evaluating RMSE, MAE of algorithm SVD on 3 split(s).\n",
      "\n",
      "                  Fold 1  Fold 2  Fold 3  Mean    Std     \n",
      "RMSE (testset)    0.9654  0.9674  0.9667  0.9665  0.0008  \n",
      "MAE (testset)     0.7612  0.7621  0.7624  0.7619  0.0005  \n",
      "Fit time          3.46    3.60    3.70    3.59    0.10    \n",
      "Test time         0.22    0.20    0.15    0.19    0.03    \n",
      "Performance: {'test_rmse': array([0.96535789, 0.96738313, 0.96667647]), 'test_mae': array([0.7611636 , 0.76209126, 0.76242883]), 'fit_time': (3.45939040184021, 3.6009604930877686, 3.6982827186584473), 'test_time': (0.22426795959472656, 0.19851088523864746, 0.15055084228515625)}\n"
     ]
    }
   ],
   "source": [
    "#Q6\n",
    "algorithm = SVD(biased=False)\n",
    "performance = cross_validate(algorithm, data, measures=['RMSE', 'MAE'], cv=3, verbose=True)\n",
    "print(\"Performance:\",performance)"
   ]
  },
  {
   "cell_type": "code",
   "execution_count": 5,
   "metadata": {},
   "outputs": [
    {
     "name": "stdout",
     "output_type": "stream",
     "text": [
      "Evaluating RMSE, MAE of algorithm NMF on 3 split(s).\n",
      "\n",
      "                  Fold 1  Fold 2  Fold 3  Mean    Std     \n",
      "RMSE (testset)    0.9780  0.9758  0.9646  0.9728  0.0059  \n",
      "MAE (testset)     0.7676  0.7668  0.7601  0.7648  0.0034  \n",
      "Fit time          4.46    5.24    5.55    5.08    0.46    \n",
      "Test time         0.22    0.25    0.34    0.27    0.05    \n",
      "Performance: {'test_rmse': array([0.97802361, 0.97579057, 0.96459635]), 'test_mae': array([0.76764467, 0.76675231, 0.76011217]), 'fit_time': (4.4639832973480225, 5.237752199172974, 5.5528724193573), 'test_time': (0.22113966941833496, 0.25183844566345215, 0.34408116340637207)}\n"
     ]
    }
   ],
   "source": [
    "#Q7\n",
    "from surprise import NMF\n",
    "algorithm = NMF()\n",
    "performance = cross_validate(algorithm, data, measures=['RMSE', 'MAE'], cv=3, verbose=True)\n",
    "print(\"Performance:\",performance)"
   ]
  },
  {
   "cell_type": "code",
   "execution_count": 6,
   "metadata": {},
   "outputs": [
    {
     "name": "stdout",
     "output_type": "stream",
     "text": [
      "Computing the msd similarity matrix...\n",
      "Done computing similarity matrix.\n",
      "Computing the msd similarity matrix...\n",
      "Done computing similarity matrix.\n",
      "Computing the msd similarity matrix...\n",
      "Done computing similarity matrix.\n",
      "Evaluating RMSE, MAE of algorithm KNNBasic on 3 split(s).\n",
      "\n",
      "                  Fold 1  Fold 2  Fold 3  Mean    Std     \n",
      "RMSE (testset)    0.9868  0.9898  0.9886  0.9884  0.0012  \n",
      "MAE (testset)     0.7791  0.7831  0.7805  0.7809  0.0017  \n",
      "Fit time          0.32    0.31    0.35    0.33    0.01    \n",
      "Test time         3.90    4.19    5.09    4.39    0.51    \n",
      "Performance: {'test_rmse': array([0.98682942, 0.98976323, 0.98862406]), 'test_mae': array([0.77912268, 0.78313168, 0.78054468]), 'fit_time': (0.3240373134613037, 0.3142108917236328, 0.3460733890533447), 'test_time': (3.8996944427490234, 4.192219972610474, 5.088015556335449)}\n"
     ]
    }
   ],
   "source": [
    "#Q8\n",
    "from surprise import KNNBasic\n",
    "\n",
    "algorithm = KNNBasic(sim_options = {\n",
    "'user_based': True\n",
    "})\n",
    "performance = cross_validate(algorithm, data, measures=['RMSE', 'MAE'], cv=3, verbose=True)\n",
    "print(\"Performance:\",performance)"
   ]
  },
  {
   "cell_type": "code",
   "execution_count": 7,
   "metadata": {},
   "outputs": [
    {
     "name": "stdout",
     "output_type": "stream",
     "text": [
      "Computing the msd similarity matrix...\n",
      "Done computing similarity matrix.\n",
      "Computing the msd similarity matrix...\n",
      "Done computing similarity matrix.\n",
      "Computing the msd similarity matrix...\n",
      "Done computing similarity matrix.\n",
      "Evaluating RMSE, MAE of algorithm KNNBasic on 3 split(s).\n",
      "\n",
      "                  Fold 1  Fold 2  Fold 3  Mean    Std     \n",
      "RMSE (testset)    0.9862  0.9907  0.9833  0.9867  0.0030  \n",
      "MAE (testset)     0.7808  0.7844  0.7781  0.7811  0.0026  \n",
      "Fit time          0.42    0.44    0.45    0.44    0.01    \n",
      "Test time         4.70    4.49    4.45    4.55    0.11    \n",
      "Performance: {'test_rmse': array([0.98615119, 0.99066729, 0.9832787 ]), 'test_mae': array([0.7808073 , 0.78438151, 0.77814737]), 'fit_time': (0.420835018157959, 0.44280385971069336, 0.44576597213745117), 'test_time': (4.6995015144348145, 4.491873264312744, 4.445727825164795)}\n"
     ]
    }
   ],
   "source": [
    "#Q9\n",
    "algorithm = KNNBasic(sim_options = {\n",
    "'user_based': False\n",
    "})\n",
    "performance = cross_validate(algorithm, data, measures=['RMSE', 'MAE'], cv=3, verbose=True)\n",
    "print(\"Performance:\",performance)"
   ]
  },
  {
   "cell_type": "code",
   "execution_count": 8,
   "metadata": {},
   "outputs": [
    {
     "name": "stdout",
     "output_type": "stream",
     "text": [
      "Computing the msd similarity matrix...\n",
      "Done computing similarity matrix.\n",
      "Computing the msd similarity matrix...\n",
      "Done computing similarity matrix.\n",
      "Computing the msd similarity matrix...\n",
      "Done computing similarity matrix.\n",
      "Evaluating RMSE, MAE of algorithm KNNBasic on 3 split(s).\n",
      "\n",
      "                  Fold 1  Fold 2  Fold 3  Mean    Std     \n",
      "RMSE (testset)    0.9863  0.9889  0.9874  0.9875  0.0011  \n",
      "MAE (testset)     0.7796  0.7827  0.7800  0.7808  0.0014  \n",
      "Fit time          0.32    0.31    0.31    0.31    0.00    \n",
      "Test time         3.92    4.29    4.47    4.23    0.23    \n",
      "Performance: {'test_rmse': array([0.98630509, 0.98887809, 0.98737735]), 'test_mae': array([0.77960712, 0.78268503, 0.78004632]), 'fit_time': (0.3202509880065918, 0.30864572525024414, 0.3120267391204834), 'test_time': (3.9201483726501465, 4.286981105804443, 4.469944715499878)}\n"
     ]
    }
   ],
   "source": [
    "#Q14.a.1\n",
    "algorithm = KNNBasic(sim_options = {\n",
    "'name':'MSD',\n",
    "'user_based': True\n",
    "})\n",
    "performance = cross_validate(algorithm, data, measures=['RMSE', 'MAE'], cv=3, verbose=True)\n",
    "print(\"Performance:\",performance)"
   ]
  },
  {
   "cell_type": "code",
   "execution_count": 9,
   "metadata": {},
   "outputs": [
    {
     "name": "stdout",
     "output_type": "stream",
     "text": [
      "Computing the cosine similarity matrix...\n",
      "Done computing similarity matrix.\n",
      "Computing the cosine similarity matrix...\n",
      "Done computing similarity matrix.\n",
      "Computing the cosine similarity matrix...\n",
      "Done computing similarity matrix.\n",
      "Evaluating RMSE, MAE of algorithm KNNBasic on 3 split(s).\n",
      "\n",
      "                  Fold 1  Fold 2  Fold 3  Mean    Std     \n",
      "RMSE (testset)    1.0273  1.0143  1.0237  1.0218  0.0055  \n",
      "MAE (testset)     0.8133  0.8032  0.8107  0.8091  0.0043  \n",
      "Fit time          1.11    1.12    1.16    1.13    0.02    \n",
      "Test time         4.20    3.95    4.21    4.12    0.12    \n",
      "Performance: {'test_rmse': array([1.02733402, 1.01425969, 1.02373181]), 'test_mae': array([0.81327236, 0.80317735, 0.81073673]), 'fit_time': (1.111973762512207, 1.1161060333251953, 1.1620571613311768), 'test_time': (4.197684049606323, 3.9530820846557617, 4.211005926132202)}\n"
     ]
    }
   ],
   "source": [
    "#Q14.a.2\n",
    "algorithm = KNNBasic(sim_options = {\n",
    "'name':'cosine',\n",
    "'user_based': True\n",
    "})\n",
    "performance = cross_validate(algorithm, data, measures=['RMSE', 'MAE'], cv=3, verbose=True)\n",
    "print(\"Performance:\",performance)"
   ]
  },
  {
   "cell_type": "code",
   "execution_count": 10,
   "metadata": {},
   "outputs": [
    {
     "name": "stdout",
     "output_type": "stream",
     "text": [
      "Computing the pearson similarity matrix...\n",
      "Done computing similarity matrix.\n",
      "Computing the pearson similarity matrix...\n",
      "Done computing similarity matrix.\n",
      "Computing the pearson similarity matrix...\n",
      "Done computing similarity matrix.\n",
      "Evaluating RMSE, MAE of algorithm KNNBasic on 3 split(s).\n",
      "\n",
      "                  Fold 1  Fold 2  Fold 3  Mean    Std     \n",
      "RMSE (testset)    1.0240  1.0234  1.0159  1.0211  0.0037  \n",
      "MAE (testset)     0.8125  0.8119  0.8072  0.8105  0.0023  \n",
      "Fit time          1.40    1.50    1.49    1.46    0.04    \n",
      "Test time         4.29    4.28    4.96    4.51    0.32    \n",
      "Performance: {'test_rmse': array([1.02403925, 1.0233805 , 1.01592361]), 'test_mae': array([0.81245466, 0.81187256, 0.80723697]), 'fit_time': (1.3997464179992676, 1.4975721836090088, 1.4898407459259033), 'test_time': (4.292171478271484, 4.2798521518707275, 4.956566095352173)}\n"
     ]
    }
   ],
   "source": [
    "#Q14.a.3\n",
    "algorithm = KNNBasic(sim_options = {\n",
    "'name':'pearson',\n",
    "'user_based': True\n",
    "})\n",
    "performance = cross_validate(algorithm, data, measures=['RMSE', 'MAE'], cv=3, verbose=True)\n",
    "print(\"Performance:\",performance)"
   ]
  },
  {
   "cell_type": "code",
   "execution_count": 11,
   "metadata": {},
   "outputs": [
    {
     "name": "stdout",
     "output_type": "stream",
     "text": [
      "Computing the msd similarity matrix...\n",
      "Done computing similarity matrix.\n",
      "Computing the msd similarity matrix...\n",
      "Done computing similarity matrix.\n",
      "Computing the msd similarity matrix...\n",
      "Done computing similarity matrix.\n",
      "Evaluating RMSE, MAE of algorithm KNNBasic on 3 split(s).\n",
      "\n",
      "                  Fold 1  Fold 2  Fold 3  Mean    Std     \n",
      "RMSE (testset)    0.9903  0.9839  0.9837  0.9859  0.0031  \n",
      "MAE (testset)     0.7835  0.7794  0.7782  0.7803  0.0023  \n",
      "Fit time          0.42    0.49    0.47    0.46    0.03    \n",
      "Test time         4.37    5.17    5.52    5.02    0.48    \n",
      "Performance: {'test_rmse': array([0.99029992, 0.98387301, 0.98366005]), 'test_mae': array([0.7834625 , 0.77941333, 0.77816969]), 'fit_time': (0.4248232841491699, 0.4903731346130371, 0.46671319007873535), 'test_time': (4.374922513961792, 5.165710687637329, 5.516941547393799)}\n"
     ]
    }
   ],
   "source": [
    "#Q14.b.1\n",
    "algorithm = KNNBasic(sim_options = {\n",
    "'name':'MSD',\n",
    "'user_based': False\n",
    "})\n",
    "performance = cross_validate(algorithm, data, measures=['RMSE', 'MAE'], cv=3, verbose=True)\n",
    "print(\"Performance:\",performance)"
   ]
  },
  {
   "cell_type": "code",
   "execution_count": 12,
   "metadata": {},
   "outputs": [
    {
     "name": "stdout",
     "output_type": "stream",
     "text": [
      "Computing the cosine similarity matrix...\n",
      "Done computing similarity matrix.\n",
      "Computing the cosine similarity matrix...\n",
      "Done computing similarity matrix.\n",
      "Computing the cosine similarity matrix...\n",
      "Done computing similarity matrix.\n",
      "Evaluating RMSE, MAE of algorithm KNNBasic on 3 split(s).\n",
      "\n",
      "                  Fold 1  Fold 2  Fold 3  Mean    Std     \n",
      "RMSE (testset)    1.0319  1.0390  1.0370  1.0360  0.0030  \n",
      "MAE (testset)     0.8187  0.8267  0.8222  0.8226  0.0033  \n",
      "Fit time          1.69    1.63    1.81    1.71    0.08    \n",
      "Test time         4.43    4.45    5.17    4.68    0.34    \n",
      "Performance: {'test_rmse': array([1.03190645, 1.0390117 , 1.03704784]), 'test_mae': array([0.8187474 , 0.82671989, 0.82222242]), 'fit_time': (1.6858644485473633, 1.628281831741333, 1.8101601600646973), 'test_time': (4.4308648109436035, 4.453801393508911, 5.167854070663452)}\n"
     ]
    }
   ],
   "source": [
    "#Q14.b.2\n",
    "algorithm = KNNBasic(sim_options = {\n",
    "'name':'cosine',\n",
    "'user_based': False\n",
    "})\n",
    "performance = cross_validate(algorithm, data, measures=['RMSE', 'MAE'], cv=3, verbose=True)\n",
    "print(\"Performance:\",performance)"
   ]
  },
  {
   "cell_type": "code",
   "execution_count": 13,
   "metadata": {},
   "outputs": [
    {
     "name": "stdout",
     "output_type": "stream",
     "text": [
      "Computing the pearson similarity matrix...\n",
      "Done computing similarity matrix.\n",
      "Computing the pearson similarity matrix...\n",
      "Done computing similarity matrix.\n",
      "Computing the pearson similarity matrix...\n",
      "Done computing similarity matrix.\n",
      "Evaluating RMSE, MAE of algorithm KNNBasic on 3 split(s).\n",
      "\n",
      "                  Fold 1  Fold 2  Fold 3  Mean    Std     \n",
      "RMSE (testset)    1.0503  1.0527  1.0430  1.0487  0.0041  \n",
      "MAE (testset)     0.8421  0.8416  0.8342  0.8393  0.0036  \n",
      "Fit time          2.09    2.14    2.25    2.16    0.06    \n",
      "Test time         4.35    4.89    5.24    4.83    0.36    \n",
      "Performance: {'test_rmse': array([1.05032301, 1.05272876, 1.04301332]), 'test_mae': array([0.84207885, 0.84158209, 0.8342354 ]), 'fit_time': (2.0910565853118896, 2.1413164138793945, 2.245858669281006), 'test_time': (4.352900505065918, 4.889027118682861, 5.237138748168945)}\n"
     ]
    }
   ],
   "source": [
    "#Q14.b.3\n",
    "algorithm = KNNBasic(sim_options = {\n",
    "'name':'pearson',\n",
    "'user_based': False\n",
    "})\n",
    "performance = cross_validate(algorithm, data, measures=['RMSE', 'MAE'], cv=3, verbose=True)\n",
    "print(\"Performance:\",performance)"
   ]
  },
  {
   "cell_type": "code",
   "execution_count": 15,
   "metadata": {},
   "outputs": [
    {
     "name": "stdout",
     "output_type": "stream",
     "text": [
      "Computing the msd similarity matrix...\n",
      "Done computing similarity matrix.\n",
      "Computing the msd similarity matrix...\n",
      "Done computing similarity matrix.\n",
      "Computing the msd similarity matrix...\n",
      "Done computing similarity matrix.\n",
      "Computing the msd similarity matrix...\n",
      "Done computing similarity matrix.\n",
      "Computing the msd similarity matrix...\n",
      "Done computing similarity matrix.\n",
      "Computing the msd similarity matrix...\n",
      "Done computing similarity matrix.\n",
      "Computing the msd similarity matrix...\n",
      "Done computing similarity matrix.\n",
      "Computing the msd similarity matrix...\n",
      "Done computing similarity matrix.\n",
      "Computing the msd similarity matrix...\n",
      "Done computing similarity matrix.\n",
      "Computing the msd similarity matrix...\n",
      "Done computing similarity matrix.\n",
      "Computing the msd similarity matrix...\n",
      "Done computing similarity matrix.\n",
      "Computing the msd similarity matrix...\n",
      "Done computing similarity matrix.\n",
      "Computing the msd similarity matrix...\n",
      "Done computing similarity matrix.\n",
      "Computing the msd similarity matrix...\n",
      "Done computing similarity matrix.\n",
      "Computing the msd similarity matrix...\n",
      "Done computing similarity matrix.\n",
      "           test_rmse  fit_time  test_time\n",
      "Algorithm                                \n",
      "KNNBasic    0.987589  0.447925   6.148402\n",
      "KNNBasic    0.987900  0.333048   4.619111\n",
      "KNNBasic    0.988243  0.326438   4.472265\n",
      "KNNBasic    0.988568  0.331111   4.119062\n",
      "KNNBasic    0.989245  0.339592   4.753340\n"
     ]
    },
    {
     "data": {
      "image/png": "[encoded data removed]",
      "text/plain": [
       "<Figure size 432x288 with 1 Axes>"
      ]
     },
     "metadata": {
      "needs_background": "light"
     },
     "output_type": "display_data"
    }
   ],
   "source": [
    "#Q15.a\n",
    "import matplotlib.pyplot as pic\n",
    "\n",
    "measure = []\n",
    "method =''\n",
    "k_val=(5,10,15,20,25)\n",
    "for kvalue in k_val:\n",
    "\n",
    "    for algorithm in [(KNNBasic(k_val=kvalue, sim_options = {'method':'MSD', 'user_based': True }))]:\n",
    "    \n",
    "       \n",
    "  \n",
    "        performance = cross_validate(algorithm, data, measures=['RMSE'], cv=3, verbose=False)\n",
    "   \n",
    "        data_temp = pd.DataFrame.from_dict(performance).mean(axis=0)\n",
    "        data_temp = data_temp.append(pd.Series([str(algorithm).split(' ')[0].split('.')[-1]], index=['Algorithm']))\n",
    "        measure.append(data_temp)\n",
    "    \n",
    "UserBased_Dataset=pd.DataFrame(measure).set_index('Algorithm').sort_values('test_rmse')\n",
    "print(UserBased_Dataset)\n",
    "pic.bar(k_val,UserBased_Dataset.test_rmse,color='blue',align='center', alpha=0.5)\n",
    "pic.show()"
   ]
  },
  {
   "cell_type": "code",
   "execution_count": 16,
   "metadata": {},
   "outputs": [
    {
     "name": "stdout",
     "output_type": "stream",
     "text": [
      "Computing the msd similarity matrix...\n",
      "Done computing similarity matrix.\n",
      "Computing the msd similarity matrix...\n",
      "Done computing similarity matrix.\n",
      "Computing the msd similarity matrix...\n",
      "Done computing similarity matrix.\n",
      "Computing the msd similarity matrix...\n",
      "Done computing similarity matrix.\n",
      "Computing the msd similarity matrix...\n",
      "Done computing similarity matrix.\n",
      "Computing the msd similarity matrix...\n",
      "Done computing similarity matrix.\n",
      "Computing the msd similarity matrix...\n",
      "Done computing similarity matrix.\n",
      "Computing the msd similarity matrix...\n",
      "Done computing similarity matrix.\n",
      "Computing the msd similarity matrix...\n",
      "Done computing similarity matrix.\n",
      "Computing the msd similarity matrix...\n",
      "Done computing similarity matrix.\n",
      "Computing the msd similarity matrix...\n",
      "Done computing similarity matrix.\n",
      "Computing the msd similarity matrix...\n",
      "Done computing similarity matrix.\n",
      "Computing the msd similarity matrix...\n",
      "Done computing similarity matrix.\n",
      "Computing the msd similarity matrix...\n",
      "Done computing similarity matrix.\n",
      "Computing the msd similarity matrix...\n",
      "Done computing similarity matrix.\n",
      "           test_rmse  fit_time  test_time\n",
      "Algorithm                                \n",
      "KNNBasic    0.985691  0.453577   4.858633\n",
      "KNNBasic    0.985757  0.508661   5.231533\n",
      "KNNBasic    0.985872  0.483934   5.424254\n",
      "KNNBasic    0.985997  0.470597   5.306589\n",
      "KNNBasic    0.986472  0.559680   5.848587\n"
     ]
    },
    {
     "data": {
      "image/png": "[encoded data removed]",
      "text/plain": [
       "<Figure size 432x288 with 1 Axes>"
      ]
     },
     "metadata": {
      "needs_background": "light"
     },
     "output_type": "display_data"
    }
   ],
   "source": [
    "#Q15.b\n",
    "measure = []\n",
    "for kvalue in k_val:\n",
    "\n",
    "    for algorithm in [(KNNBasic(k_val=kvalue, sim_options = {'name':'MSD', 'user_based': False }))]:\n",
    "        performance = cross_validate(algorithm, data, measures=['RMSE'], cv=3, verbose=False)\n",
    "        data_temp = pd.DataFrame.from_dict(performance).mean(axis=0)\n",
    "        data_temp = data_temp.append(pd.Series([str(algorithm).split(' ')[0].split('.')[-1]], index=['Algorithm']))\n",
    "        measure.append(data_temp)\n",
    "    \n",
    "ItemBased_Dataset=pd.DataFrame(measure).set_index('Algorithm').sort_values('test_rmse')\n",
    "print(ItemBased_Dataset)\n",
    "pic.bar(k_val,ItemBased_Dataset.test_rmse,color='green',align='center', alpha=0.5)\n",
    "pic.show()"
   ]
  },
  {
   "cell_type": "code",
   "execution_count": null,
   "metadata": {},
   "outputs": [],
   "source": []
  }
 ],
 "metadata": {
  "kernelspec": {
   "display_name": "Python 3",
   "language": "python",
   "name": "python3"
  },
  "language_info": {
   "codemirror_mode": {
    "name": "ipython",
    "version": 3
   },
   "file_extension": ".py",
   "mimetype": "text/x-python",
   "name": "python",
   "nbconvert_exporter": "python",
   "pygments_lexer": "ipython3",
   "version": "3.7.4"
  }
 },
 "nbformat": 4,
 "nbformat_minor": 2
}
